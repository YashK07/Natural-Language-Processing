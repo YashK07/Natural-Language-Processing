{
 "cells": [
  {
   "cell_type": "code",
   "execution_count": 1,
   "metadata": {
    "id": "Q7MRIN81hFVi"
   },
   "outputs": [],
   "source": [
    "from gensim.models import Word2Vec\n",
    "import nltk\n",
    "import re\n",
    "from nltk.corpus import stopwords"
   ]
  },
  {
   "cell_type": "code",
   "execution_count": 2,
   "metadata": {
    "id": "mbpcxGP8hUPk"
   },
   "outputs": [],
   "source": [
    "iron_man = \"\"\"  \n",
    "Iron Man is a 2008 American superhero film based on the Marvel Comics character of the same name. Produced by Marvel Studios and distributed by Paramount Pictures,[N 1] it is the first film in the Marvel Cinematic Universe (MCU). Directed by Jon Favreau from a screenplay by the writing teams of Mark Fergus and Hawk Ostby, and Art Marcum and Matt Holloway, the film stars Robert Downey Jr. as Tony Stark / Iron Man alongside Terrence Howard, Jeff Bridges, Shaun Toub, and Gwyneth Paltrow. In the film, following his escape from captivity by a terrorist group, world famous industrialist and master engineer Tony Stark builds a mechanized suit of armor and becomes the superhero Iron Man.\n",
    "A film featuring the character was in development at Universal Pictures, 20th Century Fox, and New Line Cinema at various times since 1990, before Marvel Studios reacquired the rights in 2006. Marvel put the project in production as its first self-financed film, with Paramount Pictures distributing. Favreau signed on as director in April 2006, and faced opposition from Marvel when trying to cast Downey in the title role; the actor was signed in September. Filming took place from March to June 2007, primarily in California to differentiate the film from numerous other superhero stories that are set in New York City-esque environments. During filming, the actors were free to create their own dialogue because pre-production was focused on the story and action.\n",
    "Rubber and metal versions of the armor, created by Stan Winston's company, were mixed with computer-generated imagery to create the title character.\n",
    "\"\"\""
   ]
  },
  {
   "cell_type": "code",
   "execution_count": 3,
   "metadata": {
    "id": "zEm713bqm31_"
   },
   "outputs": [],
   "source": [
    "sentences = iron_man.split(\".\")"
   ]
  },
  {
   "cell_type": "code",
   "execution_count": 4,
   "metadata": {
    "colab": {
     "base_uri": "https://localhost:8080/"
    },
    "id": "ThQXg8yEnbui",
    "outputId": "24b5a3af-0faa-41ba-98d1-ab8cb4321ad7"
   },
   "outputs": [
    {
     "data": {
      "text/plain": [
       "['  \\nIron Man is a 2008 American superhero film based on the Marvel Comics character of the same name',\n",
       " ' Produced by Marvel Studios and distributed by Paramount Pictures,[N 1] it is the first film in the Marvel Cinematic Universe (MCU)',\n",
       " ' Directed by Jon Favreau from a screenplay by the writing teams of Mark Fergus and Hawk Ostby, and Art Marcum and Matt Holloway, the film stars Robert Downey Jr',\n",
       " ' as Tony Stark / Iron Man alongside Terrence Howard, Jeff Bridges, Shaun Toub, and Gwyneth Paltrow',\n",
       " ' In the film, following his escape from captivity by a terrorist group, world famous industrialist and master engineer Tony Stark builds a mechanized suit of armor and becomes the superhero Iron Man',\n",
       " '\\nA film featuring the character was in development at Universal Pictures, 20th Century Fox, and New Line Cinema at various times since 1990, before Marvel Studios reacquired the rights in 2006',\n",
       " ' Marvel put the project in production as its first self-financed film, with Paramount Pictures distributing',\n",
       " ' Favreau signed on as director in April 2006, and faced opposition from Marvel when trying to cast Downey in the title role; the actor was signed in September',\n",
       " ' Filming took place from March to June 2007, primarily in California to differentiate the film from numerous other superhero stories that are set in New York City-esque environments',\n",
       " ' During filming, the actors were free to create their own dialogue because pre-production was focused on the story and action',\n",
       " \"\\nRubber and metal versions of the armor, created by Stan Winston's company, were mixed with computer-generated imagery to create the title character\",\n",
       " '\\n']"
      ]
     },
     "execution_count": 4,
     "metadata": {
      "tags": []
     },
     "output_type": "execute_result"
    }
   ],
   "source": [
    "sentences\n"
   ]
  },
  {
   "cell_type": "code",
   "execution_count": 7,
   "metadata": {
    "id": "UQZpJefendGW"
   },
   "outputs": [],
   "source": [
    "corpus = []\n",
    "for i in range(len(sentences)):\n",
    "  punc_removed = re.sub('^[a-zA-z]',\" \",sentences[i]) \n",
    "  words = punc_removed.split()\n",
    "  final_words = [word  for word in words if word not in stopwords.words('english')]\n",
    "  corpus.append(final_words)"
   ]
  },
  {
   "cell_type": "code",
   "execution_count": 8,
   "metadata": {
    "colab": {
     "base_uri": "https://localhost:8080/"
    },
    "id": "itaqRQehyaUL",
    "outputId": "b10c2578-d725-4ec3-b4ee-822d0fb4a790"
   },
   "outputs": [
    {
     "data": {
      "text/plain": [
       "[['Iron',\n",
       "  'Man',\n",
       "  '2008',\n",
       "  'American',\n",
       "  'superhero',\n",
       "  'film',\n",
       "  'based',\n",
       "  'Marvel',\n",
       "  'Comics',\n",
       "  'character',\n",
       "  'name'],\n",
       " ['Produced',\n",
       "  'Marvel',\n",
       "  'Studios',\n",
       "  'distributed',\n",
       "  'Paramount',\n",
       "  'Pictures,[N',\n",
       "  '1]',\n",
       "  'first',\n",
       "  'film',\n",
       "  'Marvel',\n",
       "  'Cinematic',\n",
       "  'Universe',\n",
       "  '(MCU)'],\n",
       " ['Directed',\n",
       "  'Jon',\n",
       "  'Favreau',\n",
       "  'screenplay',\n",
       "  'writing',\n",
       "  'teams',\n",
       "  'Mark',\n",
       "  'Fergus',\n",
       "  'Hawk',\n",
       "  'Ostby,',\n",
       "  'Art',\n",
       "  'Marcum',\n",
       "  'Matt',\n",
       "  'Holloway,',\n",
       "  'film',\n",
       "  'stars',\n",
       "  'Robert',\n",
       "  'Downey',\n",
       "  'Jr'],\n",
       " ['Tony',\n",
       "  'Stark',\n",
       "  '/',\n",
       "  'Iron',\n",
       "  'Man',\n",
       "  'alongside',\n",
       "  'Terrence',\n",
       "  'Howard,',\n",
       "  'Jeff',\n",
       "  'Bridges,',\n",
       "  'Shaun',\n",
       "  'Toub,',\n",
       "  'Gwyneth',\n",
       "  'Paltrow'],\n",
       " ['In',\n",
       "  'film,',\n",
       "  'following',\n",
       "  'escape',\n",
       "  'captivity',\n",
       "  'terrorist',\n",
       "  'group,',\n",
       "  'world',\n",
       "  'famous',\n",
       "  'industrialist',\n",
       "  'master',\n",
       "  'engineer',\n",
       "  'Tony',\n",
       "  'Stark',\n",
       "  'builds',\n",
       "  'mechanized',\n",
       "  'suit',\n",
       "  'armor',\n",
       "  'becomes',\n",
       "  'superhero',\n",
       "  'Iron',\n",
       "  'Man'],\n",
       " ['A',\n",
       "  'film',\n",
       "  'featuring',\n",
       "  'character',\n",
       "  'development',\n",
       "  'Universal',\n",
       "  'Pictures,',\n",
       "  '20th',\n",
       "  'Century',\n",
       "  'Fox,',\n",
       "  'New',\n",
       "  'Line',\n",
       "  'Cinema',\n",
       "  'various',\n",
       "  'times',\n",
       "  'since',\n",
       "  '1990,',\n",
       "  'Marvel',\n",
       "  'Studios',\n",
       "  'reacquired',\n",
       "  'rights',\n",
       "  '2006'],\n",
       " ['Marvel',\n",
       "  'put',\n",
       "  'project',\n",
       "  'production',\n",
       "  'first',\n",
       "  'self-financed',\n",
       "  'film,',\n",
       "  'Paramount',\n",
       "  'Pictures',\n",
       "  'distributing'],\n",
       " ['Favreau',\n",
       "  'signed',\n",
       "  'director',\n",
       "  'April',\n",
       "  '2006,',\n",
       "  'faced',\n",
       "  'opposition',\n",
       "  'Marvel',\n",
       "  'trying',\n",
       "  'cast',\n",
       "  'Downey',\n",
       "  'title',\n",
       "  'role;',\n",
       "  'actor',\n",
       "  'signed',\n",
       "  'September'],\n",
       " ['Filming',\n",
       "  'took',\n",
       "  'place',\n",
       "  'March',\n",
       "  'June',\n",
       "  '2007,',\n",
       "  'primarily',\n",
       "  'California',\n",
       "  'differentiate',\n",
       "  'film',\n",
       "  'numerous',\n",
       "  'superhero',\n",
       "  'stories',\n",
       "  'set',\n",
       "  'New',\n",
       "  'York',\n",
       "  'City-esque',\n",
       "  'environments'],\n",
       " ['During',\n",
       "  'filming,',\n",
       "  'actors',\n",
       "  'free',\n",
       "  'create',\n",
       "  'dialogue',\n",
       "  'pre-production',\n",
       "  'focused',\n",
       "  'story',\n",
       "  'action'],\n",
       " ['Rubber',\n",
       "  'metal',\n",
       "  'versions',\n",
       "  'armor,',\n",
       "  'created',\n",
       "  'Stan',\n",
       "  \"Winston's\",\n",
       "  'company,',\n",
       "  'mixed',\n",
       "  'computer-generated',\n",
       "  'imagery',\n",
       "  'create',\n",
       "  'title',\n",
       "  'character'],\n",
       " []]"
      ]
     },
     "execution_count": 8,
     "metadata": {
      "tags": []
     },
     "output_type": "execute_result"
    }
   ],
   "source": [
    "corpus"
   ]
  },
  {
   "cell_type": "code",
   "execution_count": null,
   "metadata": {
    "id": "_z5WKJhqrOkH"
   },
   "outputs": [],
   "source": [
    "final_words"
   ]
  },
  {
   "cell_type": "code",
   "execution_count": 9,
   "metadata": {
    "id": "oUOY8nGKrViY"
   },
   "outputs": [],
   "source": [
    "model = Word2Vec(corpus,window = 2,min_count=1)"
   ]
  },
  {
   "cell_type": "code",
   "execution_count": 10,
   "metadata": {
    "id": "iyKhwF-etiYO"
   },
   "outputs": [],
   "source": [
    "words = model.wv.vocab"
   ]
  },
  {
   "cell_type": "code",
   "execution_count": 24,
   "metadata": {
    "colab": {
     "base_uri": "https://localhost:8080/"
    },
    "id": "txuSGzrxtpdk",
    "outputId": "cb3a418c-4f90-4935-c594-b88edac7ff55"
   },
   "outputs": [
    {
     "data": {
      "text/plain": [
       "{'(MCU)': <gensim.models.keyedvectors.Vocab at 0x7f17cf936dd0>,\n",
       " '/': <gensim.models.keyedvectors.Vocab at 0x7f17cf90a350>,\n",
       " '1990,': <gensim.models.keyedvectors.Vocab at 0x7f17cf90ad90>,\n",
       " '1]': <gensim.models.keyedvectors.Vocab at 0x7f17cf936cd0>,\n",
       " '2006': <gensim.models.keyedvectors.Vocab at 0x7f17cf90ae50>,\n",
       " '2006,': <gensim.models.keyedvectors.Vocab at 0x7f17cf92d210>,\n",
       " '2007,': <gensim.models.keyedvectors.Vocab at 0x7f17cf92d590>,\n",
       " '2008': <gensim.models.keyedvectors.Vocab at 0x7f17cf936950>,\n",
       " '20th': <gensim.models.keyedvectors.Vocab at 0x7f17cf90ab50>,\n",
       " 'A': <gensim.models.keyedvectors.Vocab at 0x7f17cf90aa10>,\n",
       " 'American': <gensim.models.keyedvectors.Vocab at 0x7f17cf936990>,\n",
       " 'April': <gensim.models.keyedvectors.Vocab at 0x7f17cf92d150>,\n",
       " 'Art': <gensim.models.keyedvectors.Vocab at 0x7f17cf90a0d0>,\n",
       " 'Bridges,': <gensim.models.keyedvectors.Vocab at 0x7f17cf90a490>,\n",
       " 'California': <gensim.models.keyedvectors.Vocab at 0x7f17cf92d650>,\n",
       " 'Century': <gensim.models.keyedvectors.Vocab at 0x7f17cf90ab90>,\n",
       " 'Cinema': <gensim.models.keyedvectors.Vocab at 0x7f17cf90ac90>,\n",
       " 'Cinematic': <gensim.models.keyedvectors.Vocab at 0x7f17cf936d50>,\n",
       " 'City-esque': <gensim.models.keyedvectors.Vocab at 0x7f17cf92d890>,\n",
       " 'Comics': <gensim.models.keyedvectors.Vocab at 0x7f17cf9369d0>,\n",
       " 'Directed': <gensim.models.keyedvectors.Vocab at 0x7f17cf936e10>,\n",
       " 'Downey': <gensim.models.keyedvectors.Vocab at 0x7f17cf90a250>,\n",
       " 'During': <gensim.models.keyedvectors.Vocab at 0x7f17cf92d790>,\n",
       " 'Favreau': <gensim.models.keyedvectors.Vocab at 0x7f17cf936e90>,\n",
       " 'Fergus': <gensim.models.keyedvectors.Vocab at 0x7f17cf936fd0>,\n",
       " 'Filming': <gensim.models.keyedvectors.Vocab at 0x7f17cf92d110>,\n",
       " 'Fox,': <gensim.models.keyedvectors.Vocab at 0x7f17cf90abd0>,\n",
       " 'Gwyneth': <gensim.models.keyedvectors.Vocab at 0x7f17cf90a550>,\n",
       " 'Hawk': <gensim.models.keyedvectors.Vocab at 0x7f17cf90a050>,\n",
       " 'Holloway,': <gensim.models.keyedvectors.Vocab at 0x7f17cf90a190>,\n",
       " 'Howard,': <gensim.models.keyedvectors.Vocab at 0x7f17cf90a410>,\n",
       " 'In': <gensim.models.keyedvectors.Vocab at 0x7f17cf90a5d0>,\n",
       " 'Iron': <gensim.models.keyedvectors.Vocab at 0x7f17cf9368d0>,\n",
       " 'Jeff': <gensim.models.keyedvectors.Vocab at 0x7f17cf90a450>,\n",
       " 'Jon': <gensim.models.keyedvectors.Vocab at 0x7f17cf936e50>,\n",
       " 'Jr': <gensim.models.keyedvectors.Vocab at 0x7f17cf90a290>,\n",
       " 'June': <gensim.models.keyedvectors.Vocab at 0x7f17cf92d510>,\n",
       " 'Line': <gensim.models.keyedvectors.Vocab at 0x7f17cf90ac50>,\n",
       " 'Man': <gensim.models.keyedvectors.Vocab at 0x7f17cf936910>,\n",
       " 'March': <gensim.models.keyedvectors.Vocab at 0x7f17cf92d4d0>,\n",
       " 'Marcum': <gensim.models.keyedvectors.Vocab at 0x7f17cf90a110>,\n",
       " 'Mark': <gensim.models.keyedvectors.Vocab at 0x7f17cf936f90>,\n",
       " 'Marvel': <gensim.models.keyedvectors.Vocab at 0x7f17cf936b10>,\n",
       " 'Matt': <gensim.models.keyedvectors.Vocab at 0x7f17cf90a150>,\n",
       " 'New': <gensim.models.keyedvectors.Vocab at 0x7f17cf90ac10>,\n",
       " 'Ostby,': <gensim.models.keyedvectors.Vocab at 0x7f17cf90a090>,\n",
       " 'Paltrow': <gensim.models.keyedvectors.Vocab at 0x7f17cf90a590>,\n",
       " 'Paramount': <gensim.models.keyedvectors.Vocab at 0x7f17cf936c50>,\n",
       " 'Pictures': <gensim.models.keyedvectors.Vocab at 0x7f17cf90af90>,\n",
       " 'Pictures,': <gensim.models.keyedvectors.Vocab at 0x7f17cf90ab10>,\n",
       " 'Pictures,[N': <gensim.models.keyedvectors.Vocab at 0x7f17cf936c90>,\n",
       " 'Produced': <gensim.models.keyedvectors.Vocab at 0x7f17cf936b90>,\n",
       " 'Robert': <gensim.models.keyedvectors.Vocab at 0x7f17cf90a210>,\n",
       " 'Rubber': <gensim.models.keyedvectors.Vocab at 0x7f17cf92da10>,\n",
       " 'September': <gensim.models.keyedvectors.Vocab at 0x7f17cf92d1d0>,\n",
       " 'Shaun': <gensim.models.keyedvectors.Vocab at 0x7f17cf90a4d0>,\n",
       " 'Stan': <gensim.models.keyedvectors.Vocab at 0x7f17cf92dad0>,\n",
       " 'Stark': <gensim.models.keyedvectors.Vocab at 0x7f17cf90a310>,\n",
       " 'Studios': <gensim.models.keyedvectors.Vocab at 0x7f17cf936bd0>,\n",
       " 'Terrence': <gensim.models.keyedvectors.Vocab at 0x7f17cf90a3d0>,\n",
       " 'Tony': <gensim.models.keyedvectors.Vocab at 0x7f17cf90a2d0>,\n",
       " 'Toub,': <gensim.models.keyedvectors.Vocab at 0x7f17cf90a510>,\n",
       " 'Universal': <gensim.models.keyedvectors.Vocab at 0x7f17cf90aad0>,\n",
       " 'Universe': <gensim.models.keyedvectors.Vocab at 0x7f17cf936d90>,\n",
       " \"Winston's\": <gensim.models.keyedvectors.Vocab at 0x7f17cf92db10>,\n",
       " 'York': <gensim.models.keyedvectors.Vocab at 0x7f17cf92d810>,\n",
       " 'action': <gensim.models.keyedvectors.Vocab at 0x7f17cf92d490>,\n",
       " 'actor': <gensim.models.keyedvectors.Vocab at 0x7f17cf92d390>,\n",
       " 'actors': <gensim.models.keyedvectors.Vocab at 0x7f17cf92d850>,\n",
       " 'alongside': <gensim.models.keyedvectors.Vocab at 0x7f17cf90a390>,\n",
       " 'armor': <gensim.models.keyedvectors.Vocab at 0x7f17cf90a990>,\n",
       " 'armor,': <gensim.models.keyedvectors.Vocab at 0x7f17cf92da50>,\n",
       " 'based': <gensim.models.keyedvectors.Vocab at 0x7f17cf936ad0>,\n",
       " 'becomes': <gensim.models.keyedvectors.Vocab at 0x7f17cf90a9d0>,\n",
       " 'builds': <gensim.models.keyedvectors.Vocab at 0x7f17cf90a8d0>,\n",
       " 'captivity': <gensim.models.keyedvectors.Vocab at 0x7f17cf90a6d0>,\n",
       " 'cast': <gensim.models.keyedvectors.Vocab at 0x7f17cf92d3d0>,\n",
       " 'character': <gensim.models.keyedvectors.Vocab at 0x7f17cf936a50>,\n",
       " 'company,': <gensim.models.keyedvectors.Vocab at 0x7f17cf92db50>,\n",
       " 'computer-generated': <gensim.models.keyedvectors.Vocab at 0x7f17cf92dbd0>,\n",
       " 'create': <gensim.models.keyedvectors.Vocab at 0x7f17cf92d550>,\n",
       " 'created': <gensim.models.keyedvectors.Vocab at 0x7f17cf92da90>,\n",
       " 'development': <gensim.models.keyedvectors.Vocab at 0x7f17cf90aa90>,\n",
       " 'dialogue': <gensim.models.keyedvectors.Vocab at 0x7f17cf92d6d0>,\n",
       " 'differentiate': <gensim.models.keyedvectors.Vocab at 0x7f17cf92d690>,\n",
       " 'director': <gensim.models.keyedvectors.Vocab at 0x7f17cf92d090>,\n",
       " 'distributed': <gensim.models.keyedvectors.Vocab at 0x7f17cf936c10>,\n",
       " 'distributing': <gensim.models.keyedvectors.Vocab at 0x7f17cf90afd0>,\n",
       " 'engineer': <gensim.models.keyedvectors.Vocab at 0x7f17cf90a890>,\n",
       " 'environments': <gensim.models.keyedvectors.Vocab at 0x7f17cf92d8d0>,\n",
       " 'escape': <gensim.models.keyedvectors.Vocab at 0x7f17cf90a690>,\n",
       " 'faced': <gensim.models.keyedvectors.Vocab at 0x7f17cf92d2d0>,\n",
       " 'famous': <gensim.models.keyedvectors.Vocab at 0x7f17cf90a7d0>,\n",
       " 'featuring': <gensim.models.keyedvectors.Vocab at 0x7f17cf90aa50>,\n",
       " 'film': <gensim.models.keyedvectors.Vocab at 0x7f17cf936a90>,\n",
       " 'film,': <gensim.models.keyedvectors.Vocab at 0x7f17cf90a610>,\n",
       " 'filming,': <gensim.models.keyedvectors.Vocab at 0x7f17cf92d950>,\n",
       " 'first': <gensim.models.keyedvectors.Vocab at 0x7f17cf936d10>,\n",
       " 'focused': <gensim.models.keyedvectors.Vocab at 0x7f17cf92d610>,\n",
       " 'following': <gensim.models.keyedvectors.Vocab at 0x7f17cf90a650>,\n",
       " 'free': <gensim.models.keyedvectors.Vocab at 0x7f17cf92d910>,\n",
       " 'group,': <gensim.models.keyedvectors.Vocab at 0x7f17cf90a750>,\n",
       " 'imagery': <gensim.models.keyedvectors.Vocab at 0x7f17cf92dc10>,\n",
       " 'industrialist': <gensim.models.keyedvectors.Vocab at 0x7f17cf90a810>,\n",
       " 'master': <gensim.models.keyedvectors.Vocab at 0x7f17cf90a850>,\n",
       " 'mechanized': <gensim.models.keyedvectors.Vocab at 0x7f17cf90a910>,\n",
       " 'metal': <gensim.models.keyedvectors.Vocab at 0x7f17cf92d290>,\n",
       " 'mixed': <gensim.models.keyedvectors.Vocab at 0x7f17cf92db90>,\n",
       " 'name': <gensim.models.keyedvectors.Vocab at 0x7f17cf936b50>,\n",
       " 'numerous': <gensim.models.keyedvectors.Vocab at 0x7f17cf92d710>,\n",
       " 'opposition': <gensim.models.keyedvectors.Vocab at 0x7f17cf92d350>,\n",
       " 'place': <gensim.models.keyedvectors.Vocab at 0x7f17cf92d450>,\n",
       " 'pre-production': <gensim.models.keyedvectors.Vocab at 0x7f17cf92d050>,\n",
       " 'primarily': <gensim.models.keyedvectors.Vocab at 0x7f17cf92d5d0>,\n",
       " 'production': <gensim.models.keyedvectors.Vocab at 0x7f17cf90af10>,\n",
       " 'project': <gensim.models.keyedvectors.Vocab at 0x7f17cf90aed0>,\n",
       " 'put': <gensim.models.keyedvectors.Vocab at 0x7f17cf90ae90>,\n",
       " 'reacquired': <gensim.models.keyedvectors.Vocab at 0x7f17cf90add0>,\n",
       " 'rights': <gensim.models.keyedvectors.Vocab at 0x7f17cf90ae10>,\n",
       " 'role;': <gensim.models.keyedvectors.Vocab at 0x7f17cf92d0d0>,\n",
       " 'screenplay': <gensim.models.keyedvectors.Vocab at 0x7f17cf936ed0>,\n",
       " 'self-financed': <gensim.models.keyedvectors.Vocab at 0x7f17cf90af50>,\n",
       " 'set': <gensim.models.keyedvectors.Vocab at 0x7f17cf92d7d0>,\n",
       " 'signed': <gensim.models.keyedvectors.Vocab at 0x7f17cf92d410>,\n",
       " 'since': <gensim.models.keyedvectors.Vocab at 0x7f17cf90ad50>,\n",
       " 'stars': <gensim.models.keyedvectors.Vocab at 0x7f17cf90a1d0>,\n",
       " 'stories': <gensim.models.keyedvectors.Vocab at 0x7f17cf92d750>,\n",
       " 'story': <gensim.models.keyedvectors.Vocab at 0x7f17cf92d190>,\n",
       " 'suit': <gensim.models.keyedvectors.Vocab at 0x7f17cf90a950>,\n",
       " 'superhero': <gensim.models.keyedvectors.Vocab at 0x7f17cf936a10>,\n",
       " 'teams': <gensim.models.keyedvectors.Vocab at 0x7f17cf936f50>,\n",
       " 'terrorist': <gensim.models.keyedvectors.Vocab at 0x7f17cf90a710>,\n",
       " 'times': <gensim.models.keyedvectors.Vocab at 0x7f17cf90ad10>,\n",
       " 'title': <gensim.models.keyedvectors.Vocab at 0x7f17cf92d310>,\n",
       " 'took': <gensim.models.keyedvectors.Vocab at 0x7f17cf92d990>,\n",
       " 'trying': <gensim.models.keyedvectors.Vocab at 0x7f17cf92d250>,\n",
       " 'various': <gensim.models.keyedvectors.Vocab at 0x7f17cf90acd0>,\n",
       " 'versions': <gensim.models.keyedvectors.Vocab at 0x7f17cf92d9d0>,\n",
       " 'world': <gensim.models.keyedvectors.Vocab at 0x7f17cf90a790>,\n",
       " 'writing': <gensim.models.keyedvectors.Vocab at 0x7f17cf936f10>}"
      ]
     },
     "execution_count": 24,
     "metadata": {
      "tags": []
     },
     "output_type": "execute_result"
    }
   ],
   "source": [
    "words\n"
   ]
  },
  {
   "cell_type": "code",
   "execution_count": 14,
   "metadata": {
    "colab": {
     "base_uri": "https://localhost:8080/"
    },
    "id": "YtUY13X8tqkr",
    "outputId": "fb79da06-a45e-424f-ec16-dafccdd02dee"
   },
   "outputs": [
    {
     "data": {
      "text/plain": [
       "array([ 3.7872426e-03,  4.8370147e-04, -1.2208360e-03,  1.7225693e-03,\n",
       "        5.1935727e-04, -4.1069672e-03,  1.6883716e-03, -4.1766958e-03,\n",
       "       -4.8094727e-03, -1.3640499e-03,  3.0920384e-03, -3.4903240e-04,\n",
       "       -5.0074619e-04,  3.2933922e-03, -2.1502227e-03, -4.7127604e-03,\n",
       "        1.1903726e-03, -4.4433568e-03,  6.0641358e-04,  4.7310344e-03,\n",
       "       -2.4974279e-03,  7.9736696e-04,  3.5381271e-03, -2.3176013e-03,\n",
       "       -2.2052260e-04,  4.3973597e-03, -4.8589138e-03,  2.3412243e-03,\n",
       "       -1.5516358e-03, -3.5582855e-03,  2.0779795e-03, -3.9575598e-03,\n",
       "        4.1461244e-04,  4.1161454e-03,  3.5539321e-03,  1.8755179e-03,\n",
       "       -4.7975108e-03, -2.7751734e-03, -1.4395901e-04, -4.5360145e-03,\n",
       "       -3.8573020e-03, -1.1629049e-03,  4.2244848e-03,  3.6981632e-03,\n",
       "       -3.4521094e-03, -2.1807216e-03, -4.0144143e-03,  2.9515154e-03,\n",
       "        1.7959060e-03, -2.3700804e-03,  1.1948459e-03, -3.1668276e-03,\n",
       "        3.4236812e-03, -4.1625695e-03,  1.0534759e-03,  1.8154910e-03,\n",
       "        4.7072545e-03, -2.1560222e-03, -3.8002475e-04,  1.9943353e-04,\n",
       "        3.3599276e-03, -2.0843041e-03, -2.0962881e-03, -2.8858813e-03,\n",
       "        7.1375613e-04, -2.5190788e-03,  3.2049015e-03,  3.7905553e-03,\n",
       "       -3.3485687e-03, -2.9126839e-03,  1.3725016e-03,  4.9177277e-05,\n",
       "        3.3588938e-03, -2.9998529e-03,  1.3446962e-03, -1.8283487e-03,\n",
       "       -6.5682363e-04, -3.2065155e-03, -2.8712992e-03,  3.9988393e-03,\n",
       "        8.6167787e-04, -1.2308046e-03,  1.9389500e-03, -3.4907367e-03,\n",
       "       -2.0098723e-03, -4.9840566e-03, -2.8295189e-03, -1.5095201e-03,\n",
       "       -2.1051621e-04,  3.1639745e-03, -3.9670686e-03, -4.6233195e-03,\n",
       "        2.3946294e-03, -4.3552504e-03, -2.6441498e-03,  4.5521399e-03,\n",
       "        1.6636044e-03,  4.2283530e-03,  3.6132620e-03, -1.3257397e-04],\n",
       "      dtype=float32)"
      ]
     },
     "execution_count": 14,
     "metadata": {
      "tags": []
     },
     "output_type": "execute_result"
    }
   ],
   "source": [
    "vector = model.wv['Stark']\n",
    "vector"
   ]
  },
  {
   "cell_type": "code",
   "execution_count": 30,
   "metadata": {
    "colab": {
     "base_uri": "https://localhost:8080/"
    },
    "id": "7s6Dr42R66eU",
    "outputId": "ce641c3f-4c4c-4d43-98ad-b5383b5d5d09"
   },
   "outputs": [
    {
     "data": {
      "text/plain": [
       "0.0047310344"
      ]
     },
     "execution_count": 30,
     "metadata": {
      "tags": []
     },
     "output_type": "execute_result"
    }
   ],
   "source": [
    "vector[19]"
   ]
  },
  {
   "cell_type": "code",
   "execution_count": 15,
   "metadata": {
    "colab": {
     "base_uri": "https://localhost:8080/"
    },
    "id": "a_9Vn7W_0UK4",
    "outputId": "5edaf5dc-1c24-4637-e961-ad77518a3d1f"
   },
   "outputs": [
    {
     "data": {
      "text/plain": [
       "(100,)"
      ]
     },
     "execution_count": 15,
     "metadata": {
      "tags": []
     },
     "output_type": "execute_result"
    }
   ],
   "source": [
    "vector.shape"
   ]
  },
  {
   "cell_type": "code",
   "execution_count": 17,
   "metadata": {
    "colab": {
     "base_uri": "https://localhost:8080/"
    },
    "id": "L8MICiBL0rOr",
    "outputId": "95da8a86-0484-479a-8826-ccd68dba1868"
   },
   "outputs": [
    {
     "name": "stdout",
     "output_type": "stream",
     "text": [
      "[('builds', 0.23196865618228912), ('title', 0.21438448131084442), ('name', 0.21281972527503967), ('20th', 0.19753479957580566), ('actor', 0.19115301966667175), ('City-esque', 0.18355756998062134), ('armor', 0.17993590235710144), ('development', 0.17684805393218994), ('captivity', 0.1756591796875), ('production', 0.1642265021800995)]\n"
     ]
    }
   ],
   "source": [
    "similar = model.wv.most_similar('Stark')\n",
    "print(similar)"
   ]
  },
  {
   "cell_type": "code",
   "execution_count": 27,
   "metadata": {
    "colab": {
     "base_uri": "https://localhost:8080/"
    },
    "id": "XaeBvFad094x",
    "outputId": "1c9d4769-3723-4e2b-ec34-efbb3d5b1740"
   },
   "outputs": [
    {
     "name": "stdout",
     "output_type": "stream",
     "text": [
      "('metal', 0.28686875104904175)\n",
      "('June', 0.2213679701089859)\n",
      "('Iron', 0.21832506358623505)\n",
      "('name', 0.20661890506744385)\n",
      "('screenplay', 0.19546732306480408)\n",
      "('group,', 0.1811763346195221)\n",
      "('create', 0.17075006663799286)\n",
      "('featuring', 0.16899701952934265)\n",
      "('following', 0.15164518356323242)\n",
      "('development', 0.14123719930648804)\n"
     ]
    }
   ],
   "source": [
    "similar = model.wv.most_similar('Man')\n",
    "for i in range(len(similar)):\n",
    "  print(similar[i])"
   ]
  },
  {
   "cell_type": "code",
   "execution_count": null,
   "metadata": {
    "id": "VbcvUHzC7cun"
   },
   "outputs": [],
   "source": []
  }
 ],
 "metadata": {
  "colab": {
   "name": "Word2Vec.ipynb",
   "provenance": []
  },
  "kernelspec": {
   "display_name": "Python 3",
   "language": "python",
   "name": "python3"
  },
  "language_info": {
   "codemirror_mode": {
    "name": "ipython",
    "version": 3
   },
   "file_extension": ".py",
   "mimetype": "text/x-python",
   "name": "python",
   "nbconvert_exporter": "python",
   "pygments_lexer": "ipython3",
   "version": "3.7.6"
  }
 },
 "nbformat": 4,
 "nbformat_minor": 1
}
